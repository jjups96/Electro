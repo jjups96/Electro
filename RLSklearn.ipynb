{
 "cells": [
  {
   "cell_type": "markdown",
   "metadata": {},
   "source": [
    "# Ejemplo mas inteligente\n",
    "Usando la libreria sklearn podemos darle un enfoque mas cientifico. Este tipo de machine learning es basico y se usa generalmente para predecir suscesos futuros, es decir, que una vez entrenado le daremos una X y este dara la Y que el piensa sera la correcta. Nosotros abusamos de este modelo para crear una regresion lineal basica."
   ]
  },
  {
   "cell_type": "code",
   "execution_count": 1,
   "metadata": {},
   "outputs": [],
   "source": [
    "import matplotlib.pyplot as plt\n",
    "import numpy as np\n",
    "from sklearn import datasets, linear_model\n",
    "from sklearn.metrics import mean_squared_error, r2_score"
   ]
  },
  {
   "cell_type": "code",
   "execution_count": 2,
   "metadata": {},
   "outputs": [],
   "source": [
    "# Crgamos la base de datos de diabetes\n",
    "diabetes = datasets.load_diabetes()\n",
    "\n",
    "# Solo usamos una caracteristica\n",
    "diabetes_X = diabetes.data[:, np.newaxis, 2]\n",
    "\n",
    "# Dividimos el conjunto de datos en entramiento y prueba\n",
    "diabetes_X_train = diabetes_X[:-20]\n",
    "diabetes_X_test = diabetes_X[-20:]\n",
    "\n",
    "# Dividimos los objetivos en entramiento y prueba\n",
    "diabetes_y_train = diabetes.target[:-20]\n",
    "diabetes_y_test = diabetes.target[-20:]"
   ]
  },
  {
   "cell_type": "code",
   "execution_count": 3,
   "metadata": {},
   "outputs": [],
   "source": [
    "# Cremos un objeto de regresion lineal\n",
    "regr = linear_model.LinearRegression()\n",
    "\n",
    "#Entremanos al modelos\n",
    "regr.fit(diabetes_X_train, diabetes_y_train)\n",
    "\n",
    "# Hacemos predicciones usando el modelo\n",
    "diabetes_y_pred = regr.predict(diabetes_X_test)"
   ]
  },
  {
   "cell_type": "code",
   "execution_count": 8,
   "metadata": {},
   "outputs": [
    {
     "name": "stdout",
     "output_type": "stream",
     "text": [
      "Coeficientes: \n",
      " [938.23786125]\n",
      "Error medio cuadrado: 2548.07\n",
      "puntuación de la varianza: 0.47\n"
     ]
    }
   ],
   "source": [
    "# Los coeficientes\n",
    "print('Coeficientes: \\n', regr.coef_)\n",
    "# El Error medio cuadrado\n",
    "print(\"Error medio cuadrado: %.2f\" % mean_squared_error(diabetes_y_test, diabetes_y_pred))\n",
    "#Explicación de la puntuación de la varianza: 1 es la predicción perfecta\n",
    "print('puntuación de la varianza: %.2f' % r2_score(diabetes_y_test, diabetes_y_pred))"
   ]
  },
  {
   "cell_type": "code",
   "execution_count": 45,
   "metadata": {},
   "outputs": [
    {
     "data": {
      "image/png": "[encoded data removed]",
      "text/plain": [
       "<matplotlib.figure.Figure at 0x27ed73b2c50>"
      ]
     },
     "metadata": {},
     "output_type": "display_data"
    }
   ],
   "source": [
    "# Plot outputs\n",
    "plt.scatter(diabetes_X_test, diabetes_y_test,  color='black')\n",
    "plt.plot(diabetes_X_test, diabetes_y_pred, color='blue', linewidth=3)\n",
    "\n",
    "plt.show()"
   ]
  }
 ],
 "metadata": {
  "kernelspec": {
   "display_name": "Python 3",
   "language": "python",
   "name": "python3"
  },
  "language_info": {
   "codemirror_mode": {
    "name": "ipython",
    "version": 3
   },
   "file_extension": ".py",
   "mimetype": "text/x-python",
   "name": "python",
   "nbconvert_exporter": "python",
   "pygments_lexer": "ipython3",
   "version": "3.6.4"
  }
 },
 "nbformat": 4,
 "nbformat_minor": 2
}
